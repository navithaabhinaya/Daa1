{
  "nbformat": 4,
  "nbformat_minor": 0,
  "metadata": {
    "colab": {
      "provenance": [],
      "authorship_tag": "ABX9TyPoeV2yi/1A91NSvGLQqzZX",
      "include_colab_link": true
    },
    "kernelspec": {
      "name": "python3",
      "display_name": "Python 3"
    },
    "language_info": {
      "name": "python"
    }
  },
  "cells": [
    {
      "cell_type": "markdown",
      "metadata": {
        "id": "view-in-github",
        "colab_type": "text"
      },
      "source": [
        "<a href=\"https://colab.research.google.com/github/navithaabhinaya/Daa1/blob/main/Glucoma.ipynb\" target=\"_parent\"><img src=\"https://colab.research.google.com/assets/colab-badge.svg\" alt=\"Open In Colab\"/></a>"
      ]
    },
    {
      "cell_type": "code",
      "execution_count": 1,
      "metadata": {
        "colab": {
          "base_uri": "https://localhost:8080/"
        },
        "id": "kRhnLYLkqZyh",
        "outputId": "3c20628a-e52c-4c0b-bb7c-93613d90f349"
      },
      "outputs": [
        {
          "output_type": "stream",
          "name": "stdout",
          "text": [
            "Mounted at /content/gdrive\n"
          ]
        }
      ],
      "source": [
        "from google.colab import drive\n",
        "drive.mount('/content/gdrive')\n"
      ]
    },
    {
      "cell_type": "code",
      "source": [],
      "metadata": {
        "id": "G_JOhhK2qqVm"
      },
      "execution_count": null,
      "outputs": []
    },
    {
      "cell_type": "code",
      "source": [
        "import os\n",
        "import numpy as np\n",
        "from sklearn.model_selection import train_test_split\n",
        "from shutil import copy\n",
        "\n",
        "# Define the path to your dataset directory\n",
        "dataset_dir = '/content/gdrive/MyDrive/Gdataset/Glaucoma dataset.zip (Unzipped Files)/preprocessed_images'\n",
        "\n",
        "# Define the path for the training and validation directories\n",
        "train_dir = '/content/gdrive/MyDrive/trainG'\n",
        "val_dir = '/content/gdrive/MyDrive/ValidG'\n",
        "\n",
        "# Define the ratio for the validation set (e.g., 20%)\n",
        "validation_split = 0.2\n",
        "\n",
        "# Create the training and validation directories if they don't exist\n",
        "os.makedirs(train_dir, exist_ok=True)\n",
        "os.makedirs(val_dir, exist_ok=True)\n",
        "\n",
        "# List all the image files in your dataset directory\n",
        "image_files = [f for f in os.listdir(dataset_dir) if f.endswith('.jpg')]\n",
        "\n",
        "# Split the dataset into training and validation sets\n",
        "train_files, val_files = train_test_split(image_files, test_size=validation_split, random_state=42)\n",
        "\n",
        "# Copy the training set images to the training directory\n",
        "for filename in train_files:\n",
        "    src = os.path.join(dataset_dir, filename)\n",
        "    dst = os.path.join(train_dir, filename)\n",
        "    copy(src, dst)\n",
        "\n",
        "# Copy the validation set images to the validation directory\n",
        "for filename in val_files:\n",
        "    src = os.path.join(dataset_dir, filename)\n",
        "    dst = os.path.join(val_dir, filename)\n",
        "    copy(src, dst)\n",
        "\n",
        "print(f\"Split dataset into {len(train_files)} training images and {len(val_files)} validation images.\")\n"
      ],
      "metadata": {
        "id": "iWi_41nTbQyK",
        "colab": {
          "base_uri": "https://localhost:8080/"
        },
        "outputId": "feadbdcf-db57-4aeb-9817-b2600d2315d7"
      },
      "execution_count": 2,
      "outputs": [
        {
          "output_type": "stream",
          "name": "stdout",
          "text": [
            "Split dataset into 862 training images and 216 validation images.\n"
          ]
        }
      ]
    },
    {
      "cell_type": "code",
      "source": [],
      "metadata": {
        "id": "BJN88ztvxbDI"
      },
      "execution_count": null,
      "outputs": []
    },
    {
      "cell_type": "code",
      "source": [
        "import tensorflow as tf\n",
        "from tensorflow.keras.layers import GlobalAveragePooling2D, Dense\n",
        "from tensorflow.keras.applications import MobileNetV2\n",
        "from tensorflow.keras.preprocessing.image import ImageDataGenerator\n",
        "from tensorflow.keras.optimizers import Adam"
      ],
      "metadata": {
        "id": "hOdc86FpraYX"
      },
      "execution_count": 3,
      "outputs": []
    },
    {
      "cell_type": "code",
      "source": [
        "train_data_dir = '/content/gdrive/MyDrive/trainG'\n",
        "val_data_dir = '/content/gdrive/MyDrive/ValidG'"
      ],
      "metadata": {
        "id": "n7kmCS-Jrgu9"
      },
      "execution_count": 5,
      "outputs": []
    },
    {
      "cell_type": "code",
      "source": [
        "num_classes = 2 # 'Glaucoma ' and 'non Glaucoma '\n",
        "img_width, img_height = 224, 224 # MobileNetV2 input size\n",
        "batch_size = 32\n",
        "epochs = 30"
      ],
      "metadata": {
        "id": "k-RUyplYr-xk"
      },
      "execution_count": 8,
      "outputs": []
    },
    {
      "cell_type": "code",
      "source": [
        "# Data augmentation and preprocessing\n",
        "train_datagen = ImageDataGenerator(\n",
        "rescale=1.0 / 255,\n",
        "rotation_range=20,\n",
        "width_shift_range=0.2,\n",
        "height_shift_range=0.2,\n",
        "shear_range=0.2,\n",
        "zoom_range=0.2,\n",
        "horizontal_flip=True,\n",
        "fill_mode='nearest'\n",
        ")\n",
        "val_datagen = ImageDataGenerator(rescale=1.0 / 255)\n",
        "train_generator = train_datagen.flow_from_directory(\n",
        "train_data_dir,\n",
        "target_size=(img_width, img_height),\n",
        "batch_size=batch_size,\n",
        "class_mode='binary' # 'binary' for binary classification\n",
        ")\n",
        "validation_generator = val_datagen.flow_from_directory(\n",
        "val_data_dir,\n",
        "target_size=(img_width, img_height),\n",
        "batch_size=batch_size,\n",
        "class_mode='binary'\n",
        ")"
      ],
      "metadata": {
        "id": "0scbdCOq7b95"
      },
      "execution_count": null,
      "outputs": []
    },
    {
      "cell_type": "code",
      "source": [
        "# Load pre-trained MobileNetV2 model\n",
        "base_model = MobileNetV2(weights='imagenet', include_top=False, input_shape=(img_width, img_height, 3))\n",
        "# Add custom classification layers\n",
        "x = base_model.output\n",
        "x = GlobalAveragePooling2D()(x)\n",
        "x = Dense(1024, activation='relu')(x)\n",
        "predictions = Dense(1, activation='sigmoid')(x)\n",
        "model = tf.keras.models.Model(inputs=base_model.input, outputs=predictions)\n",
        "# Freeze the pre-trained layers\n",
        "for layer in base_model.layers:\n",
        "layer.trainable = False\n",
        "# Compile the model\n",
        "model.compile(optimizer=Adam(lr=0.001), loss='binary_crossentropy', metrics=['accuracy'])\n",
        "# Train the model\n",
        "model.fit(\n",
        "train_generator,\n",
        "steps_per_epoch=train_generator.samples // batch_size,\n",
        "epochs=epochs,\n",
        "validation_data=validation_generator,\n",
        "validation_steps=validation_generator.samples // batch_size\n",
        ")"
      ],
      "metadata": {
        "id": "x3k-lmN4xcQ0"
      },
      "execution_count": null,
      "outputs": []
    },
    {
      "cell_type": "code",
      "source": [
        " #Save the trained model\n",
        "model.save('Glaucoma_detection_model.h5')"
      ],
      "metadata": {
        "id": "I2xdz7_GyEl2"
      },
      "execution_count": null,
      "outputs": []
    },
    {
      "cell_type": "code",
      "source": [
        "from tensorflow.keras.models import load_model\n",
        "model = load_model('poacher_detection_model.h5')"
      ],
      "metadata": {
        "id": "bqXDEibZySRN"
      },
      "execution_count": null,
      "outputs": []
    },
    {
      "cell_type": "code",
      "source": [
        "from tensorflow.keras.preprocessing import image\n",
        "import numpy as np"
      ],
      "metadata": {
        "id": "fz8bRMA2yaQy"
      },
      "execution_count": null,
      "outputs": []
    },
    {
      "cell_type": "code",
      "source": [
        "def preprocess_image(image_path):\n",
        "img = image.load_img(image_path, target_size=(224, 224))\n",
        "img = image.img_to_array(img)\n",
        "img = np.expand_dims(img, axis=0)\n",
        "img = img / 255.0 # Rescale to [0, 1]\n",
        "return img"
      ],
      "metadata": {
        "id": "aCO7mIf6yoty"
      },
      "execution_count": null,
      "outputs": []
    },
    {
      "cell_type": "code",
      "source": [
        "new_image_paths = [\n",
        "'/content/drive/MyDrive/val/val1/img231.jpg',\n",
        "'/content/drive/MyDrive/val/val1/img228.jpg',\n",
        "'/content/drive/MyDrive/val/val1/i2.jpg',\n",
        "'/content/drive/MyDrive/val/val1/img208.jpg',\n",
        "'/content/drive/MyDrive/val/val1/img202.jpg',\n",
        "'/content/drive/MyDrive/train/train1/056.jpg'\n",
        "]"
      ],
      "metadata": {
        "id": "vU84sSh4yzmo"
      },
      "execution_count": null,
      "outputs": []
    },
    {
      "cell_type": "code",
      "source": [
        "if prediction > 0.5:\n",
        "  result = 'Glaucoma Detected'\n",
        "  subject = 'Glaucoma Detected'\n",
        "\n",
        "else:\n",
        "  result = 'No Glaucoma Detected'\n",
        "print(f\"Image: {image_path} - Prediction: {result}\")\n"
      ],
      "metadata": {
        "id": "lHpVPHn4y8Ml"
      },
      "execution_count": null,
      "outputs": []
    }
  ]
}